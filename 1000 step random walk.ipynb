{
 "cells": [
  {
   "cell_type": "code",
   "execution_count": 1,
   "metadata": {},
   "outputs": [
    {
     "name": "stdout",
     "output_type": "stream",
     "text": [
      "Initializing network with architecture: [11, 3, 1]\n",
      "Initializing network with architecture: [11, 3, 1]\n",
      "Initializing network with architecture: [11, 3, 1]\n"
     ]
    },
    {
     "data": {
      "image/png": "[encoded data removed]",
      "text/plain": [
       "<Figure size 432x288 with 1 Axes>"
      ]
     },
     "metadata": {
      "needs_background": "light"
     },
     "output_type": "display_data"
    }
   ],
   "source": [
    "%run MyNeuralNetwork.ipynb"
   ]
  },
  {
   "cell_type": "code",
   "execution_count": 91,
   "metadata": {},
   "outputs": [],
   "source": [
    "import numpy as np\n",
    "from math import sqrt\n",
    "\n",
    "# Helper functions\n",
    "def sigmoid(x):\n",
    "    x = np.clip(x, -500, 500) # not to run into overflow error\n",
    "    return 1 / (1 + np.exp(-x))\n",
    "\n",
    "def sigmoid_derived(x):\n",
    "    x = np.clip(x, -100, 100) # not to run into overflow error\n",
    "    return np.exp(x)/(1 + np.exp(x))**2\n",
    "\n",
    "def relu(x):\n",
    "    return x * (x > 0)\n",
    "\n",
    "def relu_derived(x):\n",
    "    return 1. * (x > 0)\n",
    "\n",
    "def leaky_relu(x):\n",
    "    return x * (x > 0) + 0.01 * x * (x < 0)\n",
    "\n",
    "def leaky_relu_derived(x):\n",
    "    return 1.0 * (x > 0) + 0.01 * (x < 0)\n",
    "\n",
    "class MyNeuralNetwork():\n",
    "    '''\n",
    "    Activation function in hidden layers is sigmoid. \n",
    "    Output layer is linear for now (regression problems only).\n",
    "    '''\n",
    "    \n",
    "    def __init__(self, architecture, activation, activation_derived):\n",
    "\n",
    "        print(\"Initializing network with architecture:\", architecture, \" Activation: \", activation.__name__)\n",
    "        \n",
    "        self.architecture = architecture  # Array describing network structure, first is input, last is output all others are hidden\n",
    "        self.input_size = architecture[0] # Input features size\n",
    "        self.layers = len(architecture)   # Number of Layers\n",
    "        \n",
    "        self.W = [] # list of weight matrices\n",
    "        self.initialize_W()\n",
    "        \n",
    "        self.activation = activation\n",
    "        self.activation_derived = activation_derived\n",
    "        \n",
    "    def initialize_W(self):\n",
    "        '''\n",
    "        Initializes weights from N(0, 1/sqrt(input_features_size))\n",
    "        '''\n",
    "        for i in range(self.layers - 1):\n",
    "            tmp_W = np.random.normal(loc = 0, scale = 1/sqrt(self.input_size), size = self.architecture[i:i+2])\n",
    "            self.W.append(tmp_W)\n",
    "    \n",
    "    def feedforward_one_step(self, x, layer):\n",
    "        y = np.dot(x, self.W[layer])\n",
    "        if layer == self.layers - 2:  # Do not apply activation function in output layer calculations\n",
    "            return y\n",
    "        else:                         # Apply activation function\n",
    "            return self.activation(y)\n",
    "    \n",
    "    def feedforward(self, x):\n",
    "        '''For a given input vector column calculate output'''\n",
    "        for layer in range(self.layers - 1):\n",
    "            x = self.feedforward_one_step(x, layer)\n",
    "        return x\n",
    "    \n",
    "    def feedforward_full(self, x):\n",
    "        '''For a given input vector column feature vector for each layer'''\n",
    "        list_x = []\n",
    "        x.shape = (1, x.size)\n",
    "        list_x.append(x)\n",
    "        \n",
    "        for layer in range(self.layers - 1):\n",
    "            x = self.feedforward_one_step(x, layer)\n",
    "            x.shape = (1, x.size)\n",
    "            list_x.append(x)\n",
    "\n",
    "        return list_x\n",
    "    \n",
    "    def backpropagation(self, x, y, alpha = 0.01, print_ = False):\n",
    "        list_x = self.feedforward_full(x) # Ima indekse 0, 1, 2, 3\n",
    "        gradients = []\n",
    "        delta = 1\n",
    "        for layer in range(self.layers - 2, -1, -1):  ## ide 2, 1, 0\n",
    "            new_gradient = np.dot(delta, list_x[layer])\n",
    "            new_gradient = np.transpose(new_gradient)\n",
    "            gradients.append(new_gradient)\n",
    "            \n",
    "            if(layer > 0):\n",
    "                psi = np.dot(list_x[layer-1], self.W[layer-1])\n",
    "                sigm_d = np.eye(psi.size) * self.activation_derived(psi)\n",
    "                delta = np.dot(np.dot(sigm_d, self.W[layer]), delta)\n",
    "        gradients.reverse()\n",
    "        \n",
    "        error = list_x[-1] - y\n",
    "        # We have gradients, now we just apply them\n",
    "        for i, W in enumerate(self.W):\n",
    "            \n",
    "            if print_:\n",
    "                print(\"Current Weights: \\n\", self.W[i], \n",
    "                      \"\\nNet Estimate\", list_x[-1],\n",
    "                      \"\\nError: \\n\", error,\n",
    "                     \"\\nGradient: \\n\", gradients[i],\n",
    "                     \"\\n Update: \\n\", - alpha * error * gradients[i])\n",
    "\n",
    "            self.W[i] = self.W[i] - alpha * error * gradients[i]\n",
    "        return"
   ]
  },
  {
   "cell_type": "code",
   "execution_count": 92,
   "metadata": {},
   "outputs": [
    {
     "name": "stdout",
     "output_type": "stream",
     "text": [
      "Initializing network with architecture: [501, 250, 1]  Activation:  leaky_relu\n",
      "Initializing network with architecture: [501, 250, 1]  Activation:  sigmoid\n"
     ]
    }
   ],
   "source": [
    "n_states = 501\n",
    "\n",
    "net = MyNeuralNetwork([n_states, 250, 1], leaky_relu, leaky_relu_derived)\n",
    "net_sigmoid = MyNeuralNetwork([n_states, 250, 1], sigmoid, sigmoid_derived)"
   ]
  },
  {
   "cell_type": "code",
   "execution_count": 93,
   "metadata": {},
   "outputs": [],
   "source": [
    "# All States\n",
    "s = np.array(range(n_states))\n",
    "v = np.zeros(n_states)\n",
    "v_sigmoid = np.zeros(n_states)"
   ]
  },
  {
   "cell_type": "code",
   "execution_count": 94,
   "metadata": {},
   "outputs": [],
   "source": [
    "def state_to_vector(s):\n",
    "    x = np.zeros(n_states)\n",
    "    x[s] = 1\n",
    "    return x"
   ]
  },
  {
   "cell_type": "code",
   "execution_count": 95,
   "metadata": {},
   "outputs": [],
   "source": [
    "import matplotlib.pyplot as plt"
   ]
  },
  {
   "cell_type": "code",
   "execution_count": 115,
   "metadata": {},
   "outputs": [],
   "source": [
    "for state in s:\n",
    "    x = state_to_vector(state)\n",
    "    v[state] = net.feedforward(x)\n",
    "    v_sigmoid[state] = net_sigmoid.feedforward(x)"
   ]
  },
  {
   "cell_type": "code",
   "execution_count": 116,
   "metadata": {
    "scrolled": true
   },
   "outputs": [
    {
     "data": {
      "text/plain": [
       "<matplotlib.legend.Legend at 0x113dc8c50>"
      ]
     },
     "execution_count": 116,
     "metadata": {},
     "output_type": "execute_result"
    },
    {
     "data": {
      "image/png": "[encoded data removed]",
      "text/plain": [
       "<Figure size 432x288 with 1 Axes>"
      ]
     },
     "metadata": {
      "needs_background": "light"
     },
     "output_type": "display_data"
    }
   ],
   "source": [
    "plt.plot(s, v, label = \"leaky relu\")\n",
    "#plt.plot(s, v_sigmoid, label = 'sigmoid')\n",
    "plt.legend()"
   ]
  },
  {
   "cell_type": "code",
   "execution_count": 114,
   "metadata": {
    "scrolled": true
   },
   "outputs": [
    {
     "name": "stdout",
     "output_type": "stream",
     "text": [
      "0\n",
      "10\n",
      "20\n",
      "30\n",
      "40\n",
      "50\n",
      "60\n",
      "70\n",
      "80\n",
      "90\n",
      "100\n",
      "110\n",
      "120\n",
      "130\n",
      "140\n",
      "150\n",
      "160\n",
      "170\n",
      "180\n",
      "190\n",
      "200\n",
      "210\n",
      "220\n",
      "230\n",
      "240\n",
      "250\n",
      "260\n",
      "270\n",
      "280\n",
      "290\n"
     ]
    }
   ],
   "source": [
    "for i in range(300):\n",
    "    if i % 10 == 0:\n",
    "        print(i)\n",
    "        \n",
    "    current_state = 250\n",
    "    terminal = False\n",
    "\n",
    "    while terminal == False:\n",
    "        jump = np.random.randint(-50, 50+1)\n",
    "        next_state = current_state + jump\n",
    "\n",
    "        reward = 0\n",
    "        if next_state > 500:\n",
    "            reward = 1\n",
    "            terminal = True\n",
    "        elif next_state < 0:\n",
    "            terminal = True\n",
    "            reward = -1\n",
    "        else:\n",
    "            pass\n",
    "\n",
    "        #if terminal: print(\"Current State: \", current_state)\n",
    "        #if terminal: print(\"Next State: \", next_state)\n",
    "        #if terminal: print(\"Reward: \", reward)\n",
    "        \n",
    "        if terminal:\n",
    "            target = reward\n",
    "        else:\n",
    "            target = reward + net.feedforward(state_to_vector(next_state))\n",
    "        #if terminal: print(\"Target: \", target)\n",
    "        #if terminal: print(\"State value before: \", net.feedforward(state_to_vector(current_state)))\n",
    "        #if terminal: print(\"State 0 value before: \", net.feedforward(state_to_vector(0)))\n",
    "        \n",
    "        net.backpropagation(state_to_vector(current_state), target, alpha = 0.3)\n",
    "        #net_sigmoid.backpropagation(state_to_vector(current_state), target, alpha = 0.01)\n",
    "        #if terminal: print(\"State value after: \", net.feedforward(state_to_vector(current_state)))\n",
    "        #if terminal: print(\"State 0 value after: \", net.feedforward(state_to_vector(0)))\n",
    "        current_state = next_state"
   ]
  },
  {
   "cell_type": "code",
   "execution_count": 411,
   "metadata": {},
   "outputs": [
    {
     "name": "stdout",
     "output_type": "stream",
     "text": [
      "Initializing network with architecture: [11, 5, 1]\n"
     ]
    }
   ],
   "source": [
    "x = np.array([0, 1, 2, 3, 4, 5, 6, 7, 8, 9, 10])\n",
    "y = np.linspace(-1, 1, num = 11)\n",
    "\n",
    "n2 = MyNeuralNetwork([11, 5, 1])\n",
    "\n",
    "def state_to_vector(s):\n",
    "    x = np.zeros(11)\n",
    "    x[s] = 1\n",
    "    return x"
   ]
  },
  {
   "cell_type": "code",
   "execution_count": 583,
   "metadata": {},
   "outputs": [],
   "source": [
    "for i in range(10000):\n",
    "    index = np.random.randint(0, 11)\n",
    "    #print(\"State: \", index)\n",
    "    #print(\"Target: \", y[index])\n",
    "    #print(\"Before: \", n2.feedforward(state_to_vector(x[index])))\n",
    "    #print(\"Before state 0: \", n2.feedforward(state_to_vector(0)))\n",
    "    n2.backpropagation(state_to_vector(x[index]), y[index], alpha = 0.01)\n",
    "    #print(\"After: \", n2.feedforward(state_to_vector(x[index])))\n",
    "    #print(\"After state 0: \", n2.feedforward(state_to_vector(0)))"
   ]
  },
  {
   "cell_type": "code",
   "execution_count": 584,
   "metadata": {},
   "outputs": [],
   "source": [
    "v = np.zeros(11)\n",
    "for i in range(len(x)):\n",
    "    v[i] = n2.feedforward(state_to_vector(i))"
   ]
  },
  {
   "cell_type": "code",
   "execution_count": 585,
   "metadata": {},
   "outputs": [
    {
     "data": {
      "text/plain": [
       "[<matplotlib.lines.Line2D at 0x11d6ad4e0>]"
      ]
     },
     "execution_count": 585,
     "metadata": {},
     "output_type": "execute_result"
    },
    {
     "data": {
      "image/png": "[encoded data removed]",
      "text/plain": [
       "<Figure size 432x288 with 1 Axes>"
      ]
     },
     "metadata": {
      "needs_background": "light"
     },
     "output_type": "display_data"
    }
   ],
   "source": [
    "plt.plot(x, v)"
   ]
  },
  {
   "cell_type": "code",
   "execution_count": 283,
   "metadata": {},
   "outputs": [
    {
     "data": {
      "text/plain": [
       "0"
      ]
     },
     "execution_count": 283,
     "metadata": {},
     "output_type": "execute_result"
    }
   ],
   "source": [
    "np.random.randint(0, 1)"
   ]
  },
  {
   "cell_type": "code",
   "execution_count": null,
   "metadata": {},
   "outputs": [],
   "source": []
  }
 ],
 "metadata": {
  "kernelspec": {
   "display_name": "Python 3",
   "language": "python",
   "name": "python3"
  },
  "language_info": {
   "codemirror_mode": {
    "name": "ipython",
    "version": 3
   },
   "file_extension": ".py",
   "mimetype": "text/x-python",
   "name": "python",
   "nbconvert_exporter": "python",
   "pygments_lexer": "ipython3",
   "version": "3.7.0"
  }
 },
 "nbformat": 4,
 "nbformat_minor": 4
}

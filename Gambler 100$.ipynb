{
 "cells": [
  {
   "cell_type": "code",
   "execution_count": 421,
   "metadata": {},
   "outputs": [],
   "source": [
    "import numpy as np\n",
    "import matplotlib.pyplot as plt\n",
    "\n",
    "theta = 1e-30\n",
    "p_head = 0.49\n",
    "\n",
    "V_s = np.zeros(101)\n",
    "#V_s = np.random.uniform(low = 0, high = 1, size = 101)\n",
    "#V_s[0] = 0\n",
    "#V_s[100] = 0\n",
    "pi_s = np.zeros(101, dtype = int)\n",
    "\n",
    "def actions_s(s):\n",
    "    return [x+1 for x in list(range(s))]"
   ]
  },
  {
   "cell_type": "code",
   "execution_count": 423,
   "metadata": {},
   "outputs": [
    {
     "name": "stdout",
     "output_type": "stream",
     "text": [
      "32\n"
     ]
    }
   ],
   "source": [
    "def get_value_for_state_action(s, a, V_s, p_head):\n",
    "    \n",
    "    r_win = 0\n",
    "    r_lose = 0\n",
    "    \n",
    "    next_state_win = s + a\n",
    "    next_state_lose = s - a\n",
    "\n",
    "    if next_state_win >= 100:\n",
    "        next_state_win = 100\n",
    "        r_win = 1\n",
    "    elif next_state_lose <= 0:\n",
    "        next_state_lose = 0\n",
    "        r_lose = 0\n",
    "        \n",
    "    return p_head * (r_win + V_s[next_state_win]) + (1 - p_head) * (r_lose + V_s[next_state_lose])\n",
    "\n",
    "def get_max_for_state(s, V_s, p_head):\n",
    "    actions = actions_s(s)\n",
    "    maxi = -99999\n",
    "    maxi_index = -999\n",
    "    for action in actions:\n",
    "        x = get_value_for_state_action(s, action, V_s, p_head)\n",
    "        if x > maxi:\n",
    "            maxi = x\n",
    "            maxi_index = action\n",
    "    return maxi, maxi_index\n",
    "\n",
    "i = 0\n",
    "while(1):\n",
    "    i += 1\n",
    "    delta = 0\n",
    "    for s in range(len(V_s)):\n",
    "        if s in (0, 100):\n",
    "            continue\n",
    "            \n",
    "        v = V_s[s]\n",
    "        maxi, action = get_max_for_state(s, V_s, p_head)\n",
    "        V_s[s] = maxi\n",
    "        pi_s[s] = action\n",
    "        delta = max(delta, abs(v - V_s[s]))\n",
    "\n",
    "    if delta < theta:\n",
    "        break\n",
    "        \n",
    "print(i)"
   ]
  },
  {
   "cell_type": "code",
   "execution_count": 424,
   "metadata": {},
   "outputs": [
    {
     "data": {
      "text/plain": [
       "[<matplotlib.lines.Line2D at 0x146de4419d0>]"
      ]
     },
     "execution_count": 424,
     "metadata": {},
     "output_type": "execute_result"
    },
    {
     "data": {
      "image/png": "[encoded data removed]",
      "text/plain": [
       "<Figure size 432x288 with 1 Axes>"
      ]
     },
     "metadata": {
      "needs_background": "light"
     },
     "output_type": "display_data"
    }
   ],
   "source": [
    "%matplotlib inline\n",
    "plt.plot(V_s[:100])"
   ]
  },
  {
   "cell_type": "code",
   "execution_count": 425,
   "metadata": {
    "scrolled": false
   },
   "outputs": [
    {
     "data": {
      "text/plain": [
       "<BarContainer object of 101 artists>"
      ]
     },
     "execution_count": 425,
     "metadata": {},
     "output_type": "execute_result"
    },
    {
     "data": {
      "image/png": "[encoded data removed]",
      "text/plain": [
       "<Figure size 432x288 with 1 Axes>"
      ]
     },
     "metadata": {
      "needs_background": "light"
     },
     "output_type": "display_data"
    }
   ],
   "source": [
    "\n",
    "plt.bar(range(101), pi_s)\n"
   ]
  },
  {
   "cell_type": "code",
   "execution_count": 426,
   "metadata": {},
   "outputs": [
    {
     "data": {
      "text/plain": [
       "19"
      ]
     },
     "execution_count": 426,
     "metadata": {},
     "output_type": "execute_result"
    }
   ],
   "source": [
    "pi_s[81]"
   ]
  }
 ],
 "metadata": {
  "kernelspec": {
   "display_name": "Python 3",
   "language": "python",
   "name": "python3"
  },
  "language_info": {
   "codemirror_mode": {
    "name": "ipython",
    "version": 3
   },
   "file_extension": ".py",
   "mimetype": "text/x-python",
   "name": "python",
   "nbconvert_exporter": "python",
   "pygments_lexer": "ipython3",
   "version": "3.8.3"
  }
 },
 "nbformat": 4,
 "nbformat_minor": 4
}

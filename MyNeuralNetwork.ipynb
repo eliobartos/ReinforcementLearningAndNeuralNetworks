{
 "cells": [
  {
   "cell_type": "markdown",
   "metadata": {},
   "source": [
    "### MyNerualNetwork Class\n",
    "\n",
    "From zero my implementation of feedforward nerual network with basic backpropagation algorithm."
   ]
  },
  {
   "cell_type": "code",
   "execution_count": 147,
   "metadata": {},
   "outputs": [],
   "source": [
    "import numpy as np\n",
    "from math import sqrt\n",
    "\n",
    "# Helper functions\n",
    "def sigmoid(x):\n",
    "    x = np.clip(x, -500, 500) # not to run into overflow error\n",
    "    return 1 / (1 + np.exp(-x))\n",
    "\n",
    "def sigmoid_derived(x):\n",
    "    x = np.clip(x, -100, 100) # not to run into overflow error\n",
    "    return np.exp(x)/(1 + np.exp(x))**2\n",
    "\n",
    "def relu(x):\n",
    "    return x * (x > 0)\n",
    "\n",
    "def relu_derived(x):\n",
    "    return 1. * (x > 0)\n",
    "\n",
    "def leaky_relu(x):\n",
    "    return x * (x > 0) + 0.01 * x * (x < 0)\n",
    "\n",
    "def leaky_relu_derived(x):\n",
    "    return 1.0 * (x > 0) + 0.01 * (x < 0)\n",
    "\n",
    "class MyNeuralNetwork():\n",
    "    '''\n",
    "    Activation function in hidden layers is sigmoid. \n",
    "    Output layer is linear for now (regression problems only).\n",
    "    '''\n",
    "    \n",
    "    def __init__(self, architecture, activation, activation_derived):\n",
    "\n",
    "        print(\"Initializing network with architecture:\", architecture, \" Activation: \", activation.__name__)\n",
    "        \n",
    "        self.architecture = architecture  # Array describing network structure, first is input, last is output all others are hidden\n",
    "        self.input_size = architecture[0] # Input features size\n",
    "        self.layers = len(architecture)   # Number of Layers\n",
    "        \n",
    "        self.W = [] # list of weight matrices\n",
    "        self.initialize_W()\n",
    "        \n",
    "        self.activation = activation\n",
    "        self.activation_derived = activation_derived\n",
    "        \n",
    "    def initialize_W(self):\n",
    "        '''\n",
    "        Initializes weights from N(0, 1/sqrt(input_features_size))\n",
    "        '''\n",
    "        for i in range(self.layers - 1):\n",
    "            tmp_W = np.random.normal(loc = 0, scale = 1/sqrt(self.input_size), size = self.architecture[i:i+2])\n",
    "            self.W.append(tmp_W)\n",
    "    \n",
    "    def feedforward_one_step(self, x, layer):\n",
    "        y = np.dot(x, self.W[layer])\n",
    "        if layer == self.layers - 2:  # Do not apply activation function in output layer calculations\n",
    "            return y\n",
    "        else:                         # Apply activation function\n",
    "            return self.activation(y)\n",
    "    \n",
    "    def feedforward(self, x):\n",
    "        '''For a given input vector column calculate output'''\n",
    "        for layer in range(self.layers - 1):\n",
    "            x = self.feedforward_one_step(x, layer)\n",
    "        return x\n",
    "    \n",
    "    def feedforward_full(self, x):\n",
    "        '''For a given input vector column feature vector for each layer'''\n",
    "        list_x = []\n",
    "        x.shape = (1, x.size)\n",
    "        list_x.append(x)\n",
    "        \n",
    "        for layer in range(self.layers - 1):\n",
    "            x = self.feedforward_one_step(x, layer)\n",
    "            x.shape = (1, x.size)\n",
    "            list_x.append(x)\n",
    "\n",
    "        return list_x\n",
    "    \n",
    "    def backpropagation(self, x, y, alpha = 0.01, print_ = False):\n",
    "        list_x = self.feedforward_full(x) # Ima indekse 0, 1, 2, 3\n",
    "        gradients = []\n",
    "        delta = 1\n",
    "        for layer in range(self.layers - 2, -1, -1):  ## ide 2, 1, 0\n",
    "            new_gradient = np.dot(delta, list_x[layer])\n",
    "            new_gradient = np.transpose(new_gradient)\n",
    "            gradients.append(new_gradient)\n",
    "            \n",
    "            if(layer > 0):\n",
    "                psi = np.dot(list_x[layer-1], self.W[layer-1])\n",
    "                sigm_d = np.eye(psi.size) * self.activation_derived(psi)\n",
    "                delta = np.dot(np.dot(sigm_d, self.W[layer]), delta)\n",
    "        gradients.reverse()\n",
    "        \n",
    "        error = list_x[-1] - y\n",
    "        # We have gradients, now we just apply them\n",
    "        for i, W in enumerate(self.W):\n",
    "            \n",
    "            if print_:\n",
    "                print(\"Current Weights: \\n\", self.W[i], \n",
    "                      \"\\nNet Estimate\", list_x[-1],\n",
    "                      \"\\nError: \\n\", error,\n",
    "                     \"\\nGradient: \\n\", gradients[i],\n",
    "                     \"\\n Update: \\n\", - alpha * error * gradients[i])\n",
    "\n",
    "            self.W[i] = self.W[i] - alpha * error * gradients[i]\n",
    "        return"
   ]
  },
  {
   "cell_type": "markdown",
   "metadata": {},
   "source": [
    "Checking if both types of network work"
   ]
  },
  {
   "cell_type": "code",
   "execution_count": 142,
   "metadata": {},
   "outputs": [],
   "source": [
    "import matplotlib.pyplot as plt"
   ]
  },
  {
   "cell_type": "code",
   "execution_count": 227,
   "metadata": {},
   "outputs": [
    {
     "name": "stdout",
     "output_type": "stream",
     "text": [
      "Initializing network with architecture: [11, 3, 1]  Activation:  sigmoid\n",
      "Initializing network with architecture: [11, 3, 1]  Activation:  relu\n",
      "Initializing network with architecture: [11, 3, 1]  Activation:  leaky_relu\n"
     ]
    }
   ],
   "source": [
    "net_sigmoid = MyNeuralNetwork([11, 3, 1], sigmoid, sigmoid_derived)\n",
    "net_relu = MyNeuralNetwork([11, 3, 1], relu, relu_derived)\n",
    "net_leaky_relu = MyNeuralNetwork([11, 3, 1], leaky_relu, leaky_relu_derived)"
   ]
  },
  {
   "cell_type": "code",
   "execution_count": 244,
   "metadata": {},
   "outputs": [],
   "source": [
    "x = np.array([0, 1, 2, 3, 4, 5, 6, 7, 8, 9, 10])\n",
    "y = np.linspace(-1, 1, num = 11)\n",
    "\n",
    "def state_to_vector(s):\n",
    "    x = np.zeros(11)\n",
    "    x[s] = 1\n",
    "    return x"
   ]
  },
  {
   "cell_type": "code",
   "execution_count": 248,
   "metadata": {},
   "outputs": [],
   "source": [
    "for i in range(100):\n",
    "    index = np.random.randint(0, 11)\n",
    "    net_sigmoid.backpropagation(state_to_vector(x[index]), y[index], alpha = 1)\n",
    "    net_relu.backpropagation(state_to_vector(x[index]), y[index], alpha = 1, print_ = False)\n",
    "    net_leaky_relu.backpropagation(state_to_vector(x[index]), y[index], alpha = 1, print_ = False)"
   ]
  },
  {
   "cell_type": "code",
   "execution_count": 249,
   "metadata": {},
   "outputs": [],
   "source": [
    "v_sigmoid = np.zeros(11)\n",
    "v_relu = np.zeros(11)\n",
    "v_leaky_relu = np.zeros(11)\n",
    "for i in range(len(x)):\n",
    "    v_sigmoid[i] = net_sigmoid.feedforward(state_to_vector(i))\n",
    "    v_relu[i] = net_relu.feedforward(state_to_vector(i))\n",
    "    v_leaky_relu[i] = net_leaky_relu.feedforward(state_to_vector(i))"
   ]
  },
  {
   "cell_type": "code",
   "execution_count": 250,
   "metadata": {},
   "outputs": [
    {
     "data": {
      "text/plain": [
       "<matplotlib.legend.Legend at 0x115487908>"
      ]
     },
     "execution_count": 250,
     "metadata": {},
     "output_type": "execute_result"
    },
    {
     "data": {
      "image/png": "[encoded data removed]",
      "text/plain": [
       "<Figure size 432x288 with 1 Axes>"
      ]
     },
     "metadata": {
      "needs_background": "light"
     },
     "output_type": "display_data"
    }
   ],
   "source": [
    "plt.plot(x, v_sigmoid, label = \"sigmoid\")\n",
    "plt.plot(x, v_relu, label = \"relu\")\n",
    "plt.plot(x, v_leaky_relu, label = \"leaky_relu\")\n",
    "plt.legend()"
   ]
  },
  {
   "cell_type": "code",
   "execution_count": null,
   "metadata": {},
   "outputs": [],
   "source": []
  }
 ],
 "metadata": {
  "kernelspec": {
   "display_name": "Python 3",
   "language": "python",
   "name": "python3"
  },
  "language_info": {
   "codemirror_mode": {
    "name": "ipython",
    "version": 3
   },
   "file_extension": ".py",
   "mimetype": "text/x-python",
   "name": "python",
   "nbconvert_exporter": "python",
   "pygments_lexer": "ipython3",
   "version": "3.7.0"
  }
 },
 "nbformat": 4,
 "nbformat_minor": 4
}
